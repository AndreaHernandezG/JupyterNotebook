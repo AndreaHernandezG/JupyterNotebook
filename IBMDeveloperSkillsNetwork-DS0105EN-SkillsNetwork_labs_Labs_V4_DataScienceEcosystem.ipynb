{
  "metadata": {
    "language_info": {
      "codemirror_mode": {
        "name": "python",
        "version": 3
      },
      "file_extension": ".py",
      "mimetype": "text/x-python",
      "name": "python",
      "nbconvert_exporter": "python",
      "pygments_lexer": "ipython3",
      "version": "3.8"
    },
    "kernelspec": {
      "name": "python",
      "display_name": "Python (Pyodide)",
      "language": "python"
    }
  },
  "nbformat_minor": 4,
  "nbformat": 4,
  "cells": [
    {
      "cell_type": "code",
      "source": "print(\"Hello world\")",
      "metadata": {
        "trusted": true
      },
      "execution_count": 2,
      "outputs": [
        {
          "name": "stdout",
          "text": "Hello world\n",
          "output_type": "stream"
        }
      ]
    },
    {
      "cell_type": "markdown",
      "source": "## Author: \nAndrea Hernandez Guitron\n",
      "metadata": {}
    },
    {
      "cell_type": "markdown",
      "source": "**Data science ecosystem**",
      "metadata": {}
    },
    {
      "cell_type": "markdown",
      "source": "*in this notebook, Data science Tools and ecosystem are summarized.*",
      "metadata": {}
    },
    {
      "cell_type": "markdown",
      "source": "**objetives:**\n* Demostrate the basic uses of Jupyter Notebooks.\n* Demostrate the udeses of the markdown cells.\n* demostrate the using of ordered and unordered list.\n* demostrate the uses of code cells.",
      "metadata": {}
    },
    {
      "cell_type": "markdown",
      "source": "Some of the popular languages that Data Scientist use are: \n1. Python R \n2. SQL\n3. Scala\n4. Java\n5. C++ \n6. Julia\n\nSome of the commonly used libraries used by Data Scientist include: \n\n1. Scientific Computing Libraries in Python\n2. Visualization Libraries in Python\n3. High-Level-Machine Learning and Deep learning\n4. Deep Learning Libraries in Python\n",
      "metadata": {}
    },
    {
      "cell_type": "markdown",
      "source": "| Data science Tools |\n----------------------\n| RS studio |\n| Apache |\n| TensorFlow | ",
      "metadata": {}
    },
    {
      "cell_type": "markdown",
      "source": "### Below are a few examples of evaluating artmetic expressions in Python ",
      "metadata": {}
    },
    {
      "cell_type": "code",
      "source": "#This is a simple arithmetic expression to muytiply then add integers. \n(3*4)+5",
      "metadata": {
        "trusted": true
      },
      "execution_count": 6,
      "outputs": [
        {
          "execution_count": 6,
          "output_type": "execute_result",
          "data": {
            "text/plain": "17"
          },
          "metadata": {}
        }
      ]
    },
    {
      "cell_type": "code",
      "source": "#this will convert 200 minutes to hours by diving by 60 \n(200/60)",
      "metadata": {
        "trusted": true
      },
      "execution_count": 8,
      "outputs": [
        {
          "execution_count": 8,
          "output_type": "execute_result",
          "data": {
            "text/plain": "3.3333333333333335"
          },
          "metadata": {}
        }
      ]
    },
    {
      "cell_type": "code",
      "source": "",
      "metadata": {},
      "execution_count": null,
      "outputs": []
    }
  ]
}